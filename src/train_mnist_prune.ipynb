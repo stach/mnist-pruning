{
 "cells": [
  {
   "cell_type": "markdown",
   "metadata": {},
   "source": [
    "# Large-Scale Dataset Pruning with Dynamic Uncertainty for MNIST"
   ]
  },
  {
   "cell_type": "markdown",
   "metadata": {},
   "source": [
    "Implementation according to \"Large-scale Dataset Pruning with Dynamic Uncertainty\". (https://arxiv.org/abs/2306.05175)\n",
    "\n",
    "Check out \"../RESULTS.md\" to read more about archived performance.\n",
    "\n",
    "Check out \"../models\" for the trained models."
   ]
  },
  {
   "cell_type": "markdown",
   "metadata": {},
   "source": [
    "**Objective:**\n",
    "\n",
    "    \"Implement data pruning using the dynamic uncertainty score on the MNIST dataset and train a model with 25% and 50% pruning (i.e., 25% or 50% of the data is removed for the final training using the calculated pruning scores). Compare your implementation with random subsampling of the data. Additionally, implement the following custom dynamic uncertainty score U(x) = abs(DFT(x)), where DFT is the Discrete Fourier Transform and abs takes the magnitude of the frequency spectrum. Consider the following: Do we need every value of the DFT, or can we remove some and get the same result? If we only want to consider the dynamics, which values do we need to remove? The task is to implement the dynamic uncertainty score and explore it. As, the score are changing, you should evaluate the DFT of the dynamic uncertainty.\""
   ]
  },
  {
   "cell_type": "code",
   "execution_count": 1,
   "metadata": {},
   "outputs": [
    {
     "name": "stderr",
     "output_type": "stream",
     "text": [
      "/home/linus/miniconda3/envs/adl4r/lib/python3.7/site-packages/tqdm/auto.py:21: TqdmWarning: IProgress not found. Please update jupyter and ipywidgets. See https://ipywidgets.readthedocs.io/en/stable/user_install.html\n",
      "  from .autonotebook import tqdm as notebook_tqdm\n"
     ]
    }
   ],
   "source": [
    "# Torch\n",
    "import torch\n",
    "import torch.nn as nn\n",
    "from torch.optim import AdamW\n",
    "from torch.utils.data import DataLoader, Subset\n",
    "\n",
    "# Torchvision\n",
    "from torchvision.datasets import MNIST\n",
    "import torchvision.transforms as transforms\n",
    "\n",
    "# Numpy\n",
    "import numpy as np\n",
    "\n",
    "# TQDM for progressbars\n",
    "from tqdm import tqdm\n",
    "\n",
    "# For fancy plots \n",
    "import matplotlib.pyplot as plt"
   ]
  },
  {
   "cell_type": "markdown",
   "metadata": {},
   "source": [
    "Configuration"
   ]
  },
  {
   "cell_type": "code",
   "execution_count": 10,
   "metadata": {},
   "outputs": [
    {
     "name": "stdout",
     "output_type": "stream",
     "text": [
      "cpu\n"
     ]
    }
   ],
   "source": [
    "batch_size = 32\n",
    "pruning_ratio = 0.5\n",
    "epochs = 15\n",
    "crit = nn.CrossEntropyLoss()\n",
    "J = 5 # J < epochs\n",
    "\n",
    "# Use cuda if available\n",
    "device = torch.device(\"cuda\" if torch.cuda.is_available() else \"cpu\")\n",
    "print(device)"
   ]
  },
  {
   "cell_type": "markdown",
   "metadata": {},
   "source": [
    "---"
   ]
  },
  {
   "cell_type": "code",
   "execution_count": 3,
   "metadata": {},
   "outputs": [],
   "source": [
    "# Eval accuracy of a given net on a given loader\n",
    "def eval_acc(net : nn.Module, loader : DataLoader) -> float:\n",
    "    net.eval()\n",
    "    correct = 0\n",
    "    total = 0\n",
    "\n",
    "    with torch.no_grad():\n",
    "        for inputs, labels in loader:\n",
    "            inputs = inputs.to(device)\n",
    "            labels = labels.to(device)\n",
    "            outputs = net(inputs)\n",
    "            _, predicted = torch.max(outputs.data, 1)\n",
    "            total += labels.size(0)\n",
    "            correct += (predicted == labels).sum().item()\n",
    "\n",
    "    accuracy = correct / total\n",
    "    return accuracy"
   ]
  },
  {
   "cell_type": "code",
   "execution_count": 4,
   "metadata": {},
   "outputs": [],
   "source": [
    "# Train network\n",
    "def train(net : nn.Module, epochs: int, trainloader: DataLoader, valloader : DataLoader, lr : float = 0.001) -> torch.nn.Module:\n",
    "    optimizer = AdamW(net.parameters(), lr=lr)\n",
    "    for epoch in range(epochs):\n",
    "        total_loss = 0.0\n",
    "        for inputs, labels in tqdm(trainloader, desc=f'Epoch {epoch + 1}/{epochs}'):\n",
    "            inputs = inputs.to(device)\n",
    "            labels = labels.to(device)\n",
    "            optimizer.zero_grad()\n",
    "            outputs = net(inputs)\n",
    "            loss = crit(outputs, labels)\n",
    "            loss.backward()\n",
    "            optimizer.step()\n",
    "            total_loss += loss.item()\n",
    "\n",
    "        # Epoch loss\n",
    "        average_loss = total_loss / (trainloader.batch_size*len(trainloader))\n",
    "        print(f'Epoch {epoch + 1}/{epochs}, Average Loss: {average_loss:.4f}')\n",
    "\n",
    "        # Estimate Train and validation accuracy\n",
    "        print(f'Train Accuracy: {eval_acc(net=net, loader=trainloader) * 100:.2f}%')\n",
    "        print(f'Validation Accuracy: {eval_acc(net=net, loader=valloader) * 100:.2f}%')\n",
    "    return net"
   ]
  },
  {
   "cell_type": "markdown",
   "metadata": {},
   "source": [
    "---"
   ]
  },
  {
   "cell_type": "markdown",
   "metadata": {},
   "source": [
    "Build Model"
   ]
  },
  {
   "cell_type": "code",
   "execution_count": 37,
   "metadata": {},
   "outputs": [
    {
     "name": "stdout",
     "output_type": "stream",
     "text": [
      "tensor([[0.0989, 0.1312, 0.0885, 0.1102, 0.1117, 0.1059, 0.0658, 0.0794, 0.1023,\n",
      "         0.1062],\n",
      "        [0.0998, 0.1023, 0.0818, 0.1429, 0.1199, 0.0849, 0.0711, 0.0950, 0.0880,\n",
      "         0.1143]], grad_fn=<SoftmaxBackward0>)\n"
     ]
    }
   ],
   "source": [
    "# Simple CNN in model.py\n",
    "from model import CNN\n",
    "    \n",
    "# Test model \n",
    "x_random = torch.randn((2,1,28,28))\n",
    "net = CNN()\n",
    "print(net(x_random))\n",
    "del net"
   ]
  },
  {
   "cell_type": "markdown",
   "metadata": {},
   "source": [
    "Load dataset"
   ]
  },
  {
   "cell_type": "code",
   "execution_count": 6,
   "metadata": {},
   "outputs": [],
   "source": [
    "transform = transforms.Compose([\n",
    "                    transforms.ToTensor(),\n",
    "                    transforms.Normalize((0.1307,), (0.3081,)) # Mean and std of MNIST dataset\n",
    "        ])\n",
    "\n",
    "# Load train and testset from torchvision\n",
    "trainset = MNIST(root='../data', train=True, download=True, transform=transform)\n",
    "testset = MNIST(root='../data', train=False, download=True, transform=transform)\n",
    "\n",
    "# Just shuffle once initially! Continous shuffling could lead to indexing problems for the pruning approach.\n",
    "indices = torch.randperm(len(trainset))\n",
    "train_size = int(0.8 * len(indices))\n",
    "subset_size = int((1 - pruning_ratio) * train_size)\n",
    "\n",
    "# Split Train in Train and Val\n",
    "val_size = len(indices) - train_size\n",
    "train_indices, val_indices = indices[:train_size], indices[train_size:]\n",
    "train_subset = Subset(trainset, train_indices)\n",
    "val_subset = Subset(trainset, val_indices)\n",
    "\n",
    "trainloader = DataLoader(train_subset, batch_size=batch_size, shuffle=False)\n",
    "valloader =  DataLoader(val_subset, batch_size=batch_size, shuffle=False)\n",
    "testloader = DataLoader(testset, batch_size=batch_size, shuffle=False)"
   ]
  },
  {
   "cell_type": "code",
   "execution_count": 7,
   "metadata": {},
   "outputs": [
    {
     "name": "stdout",
     "output_type": "stream",
     "text": [
      "Trainset size: 48000\n",
      "Validation size: 12000\n",
      "Subset size: 24000\n",
      "Teset size: 10000\n"
     ]
    }
   ],
   "source": [
    "print(f\"Trainset size: {train_size}\")\n",
    "print(f\"Validation size: {val_size}\")\n",
    "print(f\"Subset size: {subset_size}\")\n",
    "print(f\"Teset size: {len(testset)}\")"
   ]
  },
  {
   "cell_type": "markdown",
   "metadata": {},
   "source": [
    "---"
   ]
  },
  {
   "cell_type": "markdown",
   "metadata": {},
   "source": [
    "**Baseline** (full dataset)"
   ]
  },
  {
   "cell_type": "code",
   "execution_count": 13,
   "metadata": {},
   "outputs": [],
   "source": [
    "net_baseline = CNN()\n",
    "net_baseline = net_baseline.to(device)\n",
    "name_baseline = f\"baseline_{epochs}\""
   ]
  },
  {
   "cell_type": "code",
   "execution_count": null,
   "metadata": {},
   "outputs": [],
   "source": [
    "net_baseline = train(net=net_baseline, epochs=epochs, trainloader=trainloader, valloader=valloader)\n",
    "net_baseline = train(net=net_baseline, epochs=epochs, trainloader=trainloader, valloader=valloader, lr=0.0001)\n",
    "print(f'Test Accuracy: {eval_acc(net=net_baseline, loader=testloader) * 100:.2f}%')"
   ]
  },
  {
   "cell_type": "code",
   "execution_count": 176,
   "metadata": {},
   "outputs": [],
   "source": [
    "torch.save(net_baseline.state_dict(), f\"../models/{name_baseline}.pth\")"
   ]
  },
  {
   "cell_type": "markdown",
   "metadata": {},
   "source": [
    "---"
   ]
  },
  {
   "cell_type": "markdown",
   "metadata": {},
   "source": [
    "**Random Subsampling**"
   ]
  },
  {
   "cell_type": "code",
   "execution_count": 177,
   "metadata": {},
   "outputs": [],
   "source": [
    "net_subsampling = CNN()\n",
    "net_subsampling = net_subsampling.to(device)\n",
    "name_subsampling = f\"subsampling_{pruning_ratio}_{epochs}\""
   ]
  },
  {
   "cell_type": "code",
   "execution_count": 178,
   "metadata": {},
   "outputs": [],
   "source": [
    "# Create a new dataloader for the trainset with a SubsetRandomSampler that only selects from [:subset_size]\n",
    "from torch.utils.data import SubsetRandomSampler\n",
    "idxs = torch.randperm(train_size)[:subset_size]\n",
    "sampler = SubsetRandomSampler(idxs)\n",
    "randomsubsampledloader = DataLoader(trainloader.dataset, batch_size=batch_size, sampler=sampler)"
   ]
  },
  {
   "cell_type": "code",
   "execution_count": null,
   "metadata": {},
   "outputs": [],
   "source": [
    "net_subsampling = train(net=net_subsampling, epochs=epochs, trainloader=randomsubsampledloader, valloader=valloader)\n",
    "net_subsampling = train(net=net_subsampling, epochs=epochs, trainloader=randomsubsampledloader, valloader=valloader, lr=0.0001)\n",
    "print(f'Test Accuracy: {eval_acc(net=net_subsampling, loader=testloader) * 100:.2f}%')"
   ]
  },
  {
   "cell_type": "code",
   "execution_count": 180,
   "metadata": {},
   "outputs": [
    {
     "name": "stderr",
     "output_type": "stream",
     "text": [
      "Test acc: 100%|██████████| 313/313 [00:03<00:00, 83.85it/s]"
     ]
    },
    {
     "name": "stdout",
     "output_type": "stream",
     "text": [
      "Test Accuracy: 98.43%\n"
     ]
    },
    {
     "name": "stderr",
     "output_type": "stream",
     "text": [
      "\n"
     ]
    }
   ],
   "source": [
    "torch.save(net_subsampling.state_dict(), f\"../models/{name_subsampling}.pth\")"
   ]
  },
  {
   "cell_type": "markdown",
   "metadata": {},
   "source": [
    "---"
   ]
  },
  {
   "cell_type": "markdown",
   "metadata": {},
   "source": [
    "**With Pruning**"
   ]
  },
  {
   "cell_type": "code",
   "execution_count": 11,
   "metadata": {},
   "outputs": [],
   "source": [
    "net_pruning = CNN()\n",
    "optimizer_pruning = AdamW(net_pruning.parameters())"
   ]
  },
  {
   "cell_type": "code",
   "execution_count": 12,
   "metadata": {},
   "outputs": [
    {
     "name": "stderr",
     "output_type": "stream",
     "text": [
      "Epoch 1/15:   1%|          | 8/1500 [00:00<00:43, 34.08it/s]"
     ]
    },
    {
     "name": "stderr",
     "output_type": "stream",
     "text": [
      "Epoch 1/15: 100%|██████████| 1500/1500 [00:41<00:00, 36.24it/s]\n"
     ]
    },
    {
     "name": "stdout",
     "output_type": "stream",
     "text": [
      "Epoch 1/15, Average Loss: 0.0959\n"
     ]
    },
    {
     "name": "stderr",
     "output_type": "stream",
     "text": [
      "Epoch 2/15: 100%|██████████| 1500/1500 [00:34<00:00, 43.83it/s]\n"
     ]
    },
    {
     "name": "stdout",
     "output_type": "stream",
     "text": [
      "Epoch 2/15, Average Loss: 0.0931\n"
     ]
    },
    {
     "name": "stderr",
     "output_type": "stream",
     "text": [
      "Epoch 3/15: 100%|██████████| 1500/1500 [00:37<00:00, 39.87it/s]\n"
     ]
    },
    {
     "name": "stdout",
     "output_type": "stream",
     "text": [
      "Epoch 3/15, Average Loss: 0.0926\n"
     ]
    },
    {
     "name": "stderr",
     "output_type": "stream",
     "text": [
      "Epoch 4/15: 100%|██████████| 1500/1500 [00:38<00:00, 39.21it/s]\n"
     ]
    },
    {
     "name": "stdout",
     "output_type": "stream",
     "text": [
      "Epoch 4/15, Average Loss: 0.0925\n"
     ]
    },
    {
     "name": "stderr",
     "output_type": "stream",
     "text": [
      "Epoch 5/15: 100%|██████████| 1500/1500 [00:47<00:00, 31.77it/s]\n"
     ]
    },
    {
     "name": "stdout",
     "output_type": "stream",
     "text": [
      "Epoch 5/15, Average Loss: 0.0923\n"
     ]
    },
    {
     "name": "stderr",
     "output_type": "stream",
     "text": [
      "Epoch 6/15: 100%|██████████| 1500/1500 [00:42<00:00, 35.46it/s]\n"
     ]
    },
    {
     "name": "stdout",
     "output_type": "stream",
     "text": [
      "Epoch 6/15, Average Loss: 0.0922\n"
     ]
    },
    {
     "name": "stderr",
     "output_type": "stream",
     "text": [
      "Epoch 7/15: 100%|██████████| 1500/1500 [00:39<00:00, 37.90it/s]\n"
     ]
    },
    {
     "name": "stdout",
     "output_type": "stream",
     "text": [
      "Epoch 7/15, Average Loss: 0.0921\n"
     ]
    },
    {
     "name": "stderr",
     "output_type": "stream",
     "text": [
      "Epoch 8/15: 100%|██████████| 1500/1500 [00:32<00:00, 45.52it/s]\n"
     ]
    },
    {
     "name": "stdout",
     "output_type": "stream",
     "text": [
      "Epoch 8/15, Average Loss: 0.0920\n"
     ]
    },
    {
     "name": "stderr",
     "output_type": "stream",
     "text": [
      "Epoch 9/15: 100%|██████████| 1500/1500 [00:43<00:00, 34.79it/s]\n"
     ]
    },
    {
     "name": "stdout",
     "output_type": "stream",
     "text": [
      "Epoch 9/15, Average Loss: 0.0920\n"
     ]
    },
    {
     "name": "stderr",
     "output_type": "stream",
     "text": [
      "Epoch 10/15: 100%|██████████| 1500/1500 [00:42<00:00, 35.24it/s]\n"
     ]
    },
    {
     "name": "stdout",
     "output_type": "stream",
     "text": [
      "Epoch 10/15, Average Loss: 0.0920\n"
     ]
    },
    {
     "name": "stderr",
     "output_type": "stream",
     "text": [
      "Epoch 11/15: 100%|██████████| 1500/1500 [00:35<00:00, 41.69it/s]\n"
     ]
    },
    {
     "name": "stdout",
     "output_type": "stream",
     "text": [
      "Epoch 11/15, Average Loss: 0.0919\n"
     ]
    },
    {
     "name": "stderr",
     "output_type": "stream",
     "text": [
      "Epoch 12/15: 100%|██████████| 1500/1500 [00:30<00:00, 49.67it/s]\n"
     ]
    },
    {
     "name": "stdout",
     "output_type": "stream",
     "text": [
      "Epoch 12/15, Average Loss: 0.0919\n"
     ]
    },
    {
     "name": "stderr",
     "output_type": "stream",
     "text": [
      "Epoch 13/15: 100%|██████████| 1500/1500 [00:33<00:00, 45.19it/s]\n"
     ]
    },
    {
     "name": "stdout",
     "output_type": "stream",
     "text": [
      "Epoch 13/15, Average Loss: 0.0919\n"
     ]
    },
    {
     "name": "stderr",
     "output_type": "stream",
     "text": [
      "Epoch 14/15: 100%|██████████| 1500/1500 [00:32<00:00, 45.79it/s]\n"
     ]
    },
    {
     "name": "stdout",
     "output_type": "stream",
     "text": [
      "Epoch 14/15, Average Loss: 0.0918\n"
     ]
    },
    {
     "name": "stderr",
     "output_type": "stream",
     "text": [
      "Epoch 15/15: 100%|██████████| 1500/1500 [00:39<00:00, 37.79it/s]"
     ]
    },
    {
     "name": "stdout",
     "output_type": "stream",
     "text": [
      "Epoch 15/15, Average Loss: 0.0918\n"
     ]
    },
    {
     "name": "stderr",
     "output_type": "stream",
     "text": [
      "\n"
     ]
    }
   ],
   "source": [
    "# Algorithm 1: Dataset pruning with dynamic uncertainty.\n",
    "# Input: Trainingset - trainloader, pruning ratio: pruning_ratio\n",
    "# Required Model: net_pruning, traing epochs: epochs, uncertainty window: J\n",
    "\n",
    "# To track uncertainty\n",
    "uncertainty_window = np.zeros((train_size, J)) # Uncertainty window\n",
    "uncertainty_EQ2 = np.zeros((train_size, epochs-J+1)) # Uncertainty according to Eq.2\n",
    "uncertainty = np.zeros(train_size) # Overall uncertainty according to Eq.3\n",
    "\n",
    "# for k = 0, · · · , K − 1 do\n",
    "for epoch in range(epochs):\n",
    "    total_loss = 0.0\n",
    "    idx = 0\n",
    "    \n",
    "    # Sample a batch B ∼ T.\n",
    "    # for (xi, yi) ∈ B do:\n",
    "    for inputs, labels in tqdm(trainloader, desc=f'Epoch {epoch + 1}/{epochs}'):\n",
    "        optimizer_pruning.zero_grad()\n",
    "\n",
    "        # Compute prediction P(yi, xi, θ) and loss ℓ(ϕθ(A(xi)), yi)\n",
    "        outputs = net_pruning(inputs)\n",
    "        loss = crit(outputs, labels)\n",
    "\n",
    "        # Store window\n",
    "        predicted_values = outputs[range(outputs.size(0)), labels]\n",
    "        uncertainty_window[idx:idx+len(labels), epoch%J] = predicted_values.detach().numpy()\n",
    "        idx += len(labels)\n",
    "\n",
    "        # Update θ ← θ − η∇θL, where L =Σℓ(ϕθ(A(xi)),yi) / |B|\n",
    "        loss.backward()\n",
    "        optimizer_pruning.step()\n",
    "        total_loss += loss.item()\n",
    "\n",
    "    # if k ≥ J then\n",
    "        # Compute uncertainty Uk−J (xi) using Eq. 2\n",
    "    if epoch >= J-1:\n",
    "            U_epoch = np.std(uncertainty_window, ddof=1, axis=1)\n",
    "            uncertainty_EQ2[:, epoch-J+1] = U_epoch\n",
    "\n",
    "    average_loss = total_loss / subset_size\n",
    "    print(f'Epoch {epoch + 1}/{epochs}, Average Loss: {average_loss:.4f}')\n",
    "\n",
    "# for (xi, yi) ∈ T do\n",
    "    # Compute dynamic uncertainty U(xi) using Eq. 3\n",
    "uncertainty = np.mean(uncertainty_EQ2, axis=1)\n",
    "\n",
    "# Sort T in the descending order of U(·)\n",
    "sorted_indices = np.argsort(uncertainty)[::-1]\n",
    "\n",
    "# S ← front (1 − r) × |T | samples in the sorted T\n",
    "subset_indices = sorted_indices[:int(len(sorted_indices)*(1-pruning_ratio))]\n",
    "\n",
    "# Output: Pruned dataset S\n",
    "train_dynamic_uncertainty_subset = Subset(dataset=trainloader.dataset, indices=subset_indices)"
   ]
  },
  {
   "cell_type": "code",
   "execution_count": 28,
   "metadata": {},
   "outputs": [],
   "source": [
    "net_pruning = CNN()\n",
    "net_pruning = net_pruning.to(device)\n",
    "name_pruning = f\"pruning_{pruning_ratio}_{epochs}\"\n",
    "dynamic_uncertainty = DataLoader(train_dynamic_uncertainty_subset, batch_size=batch_size, shuffle=False)"
   ]
  },
  {
   "cell_type": "code",
   "execution_count": null,
   "metadata": {},
   "outputs": [],
   "source": [
    "net_pruning = train(net=net_pruning, epochs=epochs, trainloader=dynamic_uncertainty, valloader=valloader)\n",
    "net_pruning = train(net=net_pruning, epochs=epochs, trainloader=dynamic_uncertainty, valloader=valloader, lr=0.0001)\n",
    "print(f'Test Accuracy: {eval_acc(net=net_pruning, loader=testloader) * 100:.2f}%')"
   ]
  },
  {
   "cell_type": "code",
   "execution_count": 185,
   "metadata": {},
   "outputs": [
    {
     "name": "stderr",
     "output_type": "stream",
     "text": [
      "Test acc: 100%|██████████| 313/313 [00:05<00:00, 61.59it/s]"
     ]
    },
    {
     "name": "stdout",
     "output_type": "stream",
     "text": [
      "Test Accuracy: 97.93%\n"
     ]
    },
    {
     "name": "stderr",
     "output_type": "stream",
     "text": [
      "\n"
     ]
    }
   ],
   "source": [
    "torch.save(net_pruning.state_dict(), f\"../models/{name_pruning}.pth\")"
   ]
  },
  {
   "cell_type": "markdown",
   "metadata": {},
   "source": [
    "---"
   ]
  },
  {
   "cell_type": "markdown",
   "metadata": {},
   "source": [
    "**Discrete Fourier Transform**"
   ]
  },
  {
   "cell_type": "markdown",
   "metadata": {},
   "source": [
    "Additionally, implement the following custom dynamic uncertainty score U(x) = abs(DFT(x)), where DFT is the Discrete Fourier Transform and abs takes the magnitude of the frequency spectrum. Consider the following: Do we need every value of the DFT, or can we remove some and get the same result? If we only want to consider the dynamics, which values do we need to remove? \"\n",
    "\n",
    "The task is to implement the dynamic uncertainty score and explore it. As, the score are changing, you should evaluate the DFT of the dynamic uncertainty. Hope that makes it more clear."
   ]
  },
  {
   "cell_type": "code",
   "execution_count": 26,
   "metadata": {},
   "outputs": [
    {
     "name": "stdout",
     "output_type": "stream",
     "text": [
      "Mean Uncertainties [0.03618682 0.01550272 0.01241558 0.01107075 0.01003913 0.00930863\n",
      " 0.00845421 0.00798313 0.00759631 0.00695741 0.00664124]\n"
     ]
    }
   ],
   "source": [
    "print(f\"Mean Uncertainties {np.mean(uncertainty_EQ2, axis=0)}\")"
   ]
  },
  {
   "cell_type": "markdown",
   "metadata": {},
   "source": [
    "**Do we need every value of the DFT, or can we remove some and get the same result?**\n",
    "\n",
    "    Well, the first epochs are obviously noisy because the weights are initially random and the first uncertainty estimates are then not really reliable. Two possible solutions to this problem: warm start, separate updating and uncertainty estimation -> as in alternative_implementation.py\n",
    "\n",
    "**If we only want to consider the dynamics, which values do we need to remove? \"**\n",
    "\n",
    "    Remove /filter the high frequency values."
   ]
  },
  {
   "cell_type": "code",
   "execution_count": 33,
   "metadata": {},
   "outputs": [],
   "source": [
    "uncertainty_fft = np.zeros(train_size) # Overall uncertainty according to specification\n",
    "uncertainty_fft = np.absolute(np.fft.fft(uncertainty_EQ2, axis=1))\n",
    "# uncertainty_fft = np.fft.fftshift(uncertainty_fft)"
   ]
  },
  {
   "cell_type": "code",
   "execution_count": 44,
   "metadata": {},
   "outputs": [
    {
     "data": {
      "image/png": "[encoded data removed]",
      "text/plain": [
       "<Figure size 640x480 with 1 Axes>"
      ]
     },
     "metadata": {},
     "output_type": "display_data"
    }
   ],
   "source": [
    "plt.plot(uncertainty_fft[:2000,:].T)\n",
    "plt.title(\"Dynamic Uncertainty in Frequency Domain\")\n",
    "plt.xlabel(\"Epoch\")\n",
    "plt.ylabel(\"U(x)=abs(DFT(x))\");"
   ]
  }
 ],
 "metadata": {
  "kernelspec": {
   "display_name": "Python 3",
   "language": "python",
   "name": "python3"
  },
  "language_info": {
   "codemirror_mode": {
    "name": "ipython",
    "version": 3
   },
   "file_extension": ".py",
   "mimetype": "text/x-python",
   "name": "python",
   "nbconvert_exporter": "python",
   "pygments_lexer": "ipython3",
   "version": "3.7.12"
  }
 },
 "nbformat": 4,
 "nbformat_minor": 2
}
