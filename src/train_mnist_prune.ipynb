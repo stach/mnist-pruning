{
 "cells": [
  {
   "cell_type": "markdown",
   "metadata": {},
   "source": [
    "# Large-Scale Dataset Pruning with Dynamic Uncertainty for MNIST"
   ]
  },
  {
   "cell_type": "markdown",
   "metadata": {},
   "source": [
    "Implementation according to \"Large-scale Dataset Pruning with Dynamic Uncertainty\" (https://arxiv.org/abs/2306.05175)"
   ]
  },
  {
   "cell_type": "markdown",
   "metadata": {},
   "source": [
    "**Objective:**\n",
    "\n",
    "    \"Implement data pruning using the dynamic uncertainty score on the MNIST dataset and train a model with 25% and 50% pruning (i.e., 25% or 50% of the data is removed for the final training using the calculated pruning scores). Compare your implementation with random subsampling of the data. Additionally, implement the following custom dynamic uncertainty score U(x) = abs(DFT(x)), where DFT is the Discrete Fourier Transform and abs takes the magnitude of the frequency spectrum. Consider the following: Do we need every value of the DFT, or can we remove some and get the same result? If we only want to consider the dynamics, which values do we need to remove? \""
   ]
  },
  {
   "cell_type": "code",
   "execution_count": 1,
   "metadata": {},
   "outputs": [
    {
     "name": "stderr",
     "output_type": "stream",
     "text": [
      "/home/linus/miniconda3/envs/adl4r/lib/python3.7/site-packages/tqdm/auto.py:21: TqdmWarning: IProgress not found. Please update jupyter and ipywidgets. See https://ipywidgets.readthedocs.io/en/stable/user_install.html\n",
      "  from .autonotebook import tqdm as notebook_tqdm\n"
     ]
    }
   ],
   "source": [
    "import torch\n",
    "import torch.nn as nn\n",
    "from torch.optim import AdamW\n",
    "from torch.utils.data import DataLoader, Subset\n",
    "\n",
    "from torchvision.datasets import MNIST\n",
    "import torchvision.transforms as transforms\n",
    "\n",
    "import numpy as np\n",
    "\n",
    "from tqdm import tqdm"
   ]
  },
  {
   "cell_type": "code",
   "execution_count": 2,
   "metadata": {},
   "outputs": [],
   "source": [
    "batch_size = 32\n",
    "pruning_ratio = 0.25\n",
    "epochs = 10\n",
    "crit = nn.CrossEntropyLoss()\n",
    "J = 5 # J < epochs"
   ]
  },
  {
   "cell_type": "code",
   "execution_count": 3,
   "metadata": {},
   "outputs": [
    {
     "name": "stdout",
     "output_type": "stream",
     "text": [
      "cpu\n"
     ]
    }
   ],
   "source": [
    "device = torch.device(\"cuda\" if torch.cuda.is_available() else \"cpu\")\n",
    "print(device)"
   ]
  },
  {
   "cell_type": "markdown",
   "metadata": {},
   "source": [
    "---"
   ]
  },
  {
   "cell_type": "code",
   "execution_count": 11,
   "metadata": {},
   "outputs": [],
   "source": [
    "# Eval accuracy of a given net on a given loader\n",
    "def eval_acc(net : nn.Module, loader : DataLoader):\n",
    "    net.eval()\n",
    "    correct = 0\n",
    "    total = 0\n",
    "\n",
    "    with torch.no_grad():\n",
    "        for inputs, labels in loader:# tqdm(loader, desc=f'Test acc'):\n",
    "            inputs = inputs.to(device)\n",
    "            labels = labels.to(device)\n",
    "            outputs = net(inputs)\n",
    "            _, predicted = torch.max(outputs.data, 1)\n",
    "            total += labels.size(0)\n",
    "            correct += (predicted == labels).sum().item()\n",
    "\n",
    "    accuracy = correct / total\n",
    "    return accuracy"
   ]
  },
  {
   "cell_type": "code",
   "execution_count": 12,
   "metadata": {},
   "outputs": [],
   "source": [
    "# Train network\n",
    "def train(net : nn.Module, epochs: int, trainloader: DataLoader, valloader : DataLoader):\n",
    "    optimizer = AdamW(net.parameters())\n",
    "    for epoch in range(epochs):\n",
    "        total_loss = 0.0\n",
    "        for inputs, labels in tqdm(trainloader, desc=f'Epoch {epoch + 1}/{epochs}'):\n",
    "            inputs = inputs.to(device)\n",
    "            labels = labels.to(device)\n",
    "            optimizer.zero_grad()\n",
    "            outputs = net(inputs)\n",
    "            loss = crit(outputs, labels)\n",
    "            loss.backward()\n",
    "            optimizer.step()\n",
    "            total_loss += loss.item()\n",
    "\n",
    "        average_loss = total_loss / (trainloader.batch_size*len(trainloader))\n",
    "        print(f'Epoch {epoch + 1}/{epochs}, Average Loss: {average_loss:.4f}')\n",
    "        print(f'Train Accuracy: {eval_acc(net=net, loader=trainloader) * 100:.2f}%')\n",
    "        print(f'Validation Accuracy: {eval_acc(net=net, loader=valloader) * 100:.2f}%')\n",
    "    return net"
   ]
  },
  {
   "cell_type": "markdown",
   "metadata": {},
   "source": [
    "---"
   ]
  },
  {
   "cell_type": "markdown",
   "metadata": {},
   "source": [
    "Build Model"
   ]
  },
  {
   "cell_type": "code",
   "execution_count": 13,
   "metadata": {},
   "outputs": [
    {
     "name": "stdout",
     "output_type": "stream",
     "text": [
      "tensor([[ 0.0701,  0.2331, -0.3286, -0.0345,  0.0113, -0.2889,  0.0658, -0.2704,\n",
      "         -0.0313,  0.3050],\n",
      "        [ 0.0717,  0.3943, -0.1504, -0.1216, -0.1051, -0.2747, -0.1904, -0.2426,\n",
      "         -0.1462,  0.1884]], grad_fn=<AddmmBackward0>)\n"
     ]
    }
   ],
   "source": [
    "class CNN(nn.Module):\n",
    "    def __init__(self) -> None:\n",
    "        super(CNN, self).__init__()\n",
    "        self.conv1 = nn.Conv2d(in_channels=1, out_channels=8, kernel_size=3, stride=1, padding=1)\n",
    "        self.conv2 = nn.Conv2d(in_channels=8, out_channels=16, kernel_size=3, stride=1, padding=1)\n",
    "        self.pool = nn.MaxPool2d(kernel_size=2, stride=2)\n",
    "        self.fc = nn.Linear(in_features=14*14*16, out_features=10)\n",
    "        self.relu = nn.ReLU()\n",
    "        self.softmax = nn.Softmax(dim=1)\n",
    "\n",
    "    def forward(self, x):\n",
    "        x = self.conv1(x)\n",
    "        x = self.relu(x)\n",
    "        x = self.conv2(x)\n",
    "        x = self.relu(x)\n",
    "        x = self.pool(x)\n",
    "        x = torch.flatten(x, 1)\n",
    "        x = self.fc(x)\n",
    "        # x = self.softmax(x)\n",
    "        return x\n",
    "    \n",
    "# Test model \n",
    "x_random = torch.randn((2,1,28,28))\n",
    "net = CNN()\n",
    "print(net(x_random))\n",
    "del net"
   ]
  },
  {
   "cell_type": "markdown",
   "metadata": {},
   "source": [
    "Load dataset"
   ]
  },
  {
   "cell_type": "code",
   "execution_count": 14,
   "metadata": {},
   "outputs": [],
   "source": [
    "transform = transforms.Compose([\n",
    "                    transforms.ToTensor(),\n",
    "                    transforms.Normalize((0.1307,), (0.3081,)) # Mean and std of MNIST dataset\n",
    "        ])\n",
    "\n",
    "trainset = MNIST(root='../data', train=True, download=True, transform=transform)\n",
    "testset = MNIST(root='../data', train=False, download=True, transform=transform)\n",
    "\n",
    "# Just shuffle once initially!\n",
    "indices = torch.randperm(len(trainset))\n",
    "train_size = int(0.8 * len(indices))\n",
    "val_size = len(indices) - train_size\n",
    "subset_size = int((1 - pruning_ratio) * train_size)\n",
    "train_indices, val_indices = indices[:train_size], indices[train_size:]\n",
    "\n",
    "train_subset = Subset(trainset, train_indices)\n",
    "val_subset = Subset(trainset, val_indices)\n",
    "\n",
    "trainloader = DataLoader(train_subset, batch_size=batch_size, shuffle=False)\n",
    "valloader =  DataLoader(val_subset, batch_size=batch_size, shuffle=False)\n",
    "testloader = DataLoader(testset, batch_size=batch_size, shuffle=False)"
   ]
  },
  {
   "cell_type": "code",
   "execution_count": 15,
   "metadata": {},
   "outputs": [
    {
     "name": "stdout",
     "output_type": "stream",
     "text": [
      "Trainset size: 48000\n",
      "Validation size: 12000\n",
      "Subset size: 36000\n",
      "Teset size: 10000\n"
     ]
    }
   ],
   "source": [
    "print(f\"Trainset size: {train_size}\")\n",
    "print(f\"Validation size: {val_size}\")\n",
    "print(f\"Subset size: {subset_size}\")\n",
    "print(f\"Teset size: {len(testset)}\")"
   ]
  },
  {
   "cell_type": "markdown",
   "metadata": {},
   "source": [
    "---"
   ]
  },
  {
   "cell_type": "markdown",
   "metadata": {},
   "source": [
    "**Baseline** (full dataset)"
   ]
  },
  {
   "cell_type": "code",
   "execution_count": 16,
   "metadata": {},
   "outputs": [],
   "source": [
    "net_baseline = CNN()\n",
    "net_baseline = net_baseline.to(device)\n",
    "name_baseline = f\"baseline_{epochs}\""
   ]
  },
  {
   "cell_type": "code",
   "execution_count": 17,
   "metadata": {},
   "outputs": [
    {
     "name": "stderr",
     "output_type": "stream",
     "text": [
      "Epoch 1/10: 100%|██████████| 1500/1500 [00:37<00:00, 40.37it/s]\n"
     ]
    },
    {
     "name": "stdout",
     "output_type": "stream",
     "text": [
      "Epoch 1/10, Average Loss: 0.0052\n",
      "Train Accuracy: 97.92%\n",
      "Validation Accuracy: 97.42%\n"
     ]
    },
    {
     "name": "stderr",
     "output_type": "stream",
     "text": [
      "Epoch 2/10: 100%|██████████| 1500/1500 [00:44<00:00, 33.84it/s]\n"
     ]
    },
    {
     "name": "stdout",
     "output_type": "stream",
     "text": [
      "Epoch 2/10, Average Loss: 0.0021\n",
      "Train Accuracy: 98.63%\n",
      "Validation Accuracy: 97.85%\n"
     ]
    },
    {
     "name": "stderr",
     "output_type": "stream",
     "text": [
      "Epoch 3/10: 100%|██████████| 1500/1500 [00:37<00:00, 40.47it/s]\n"
     ]
    },
    {
     "name": "stdout",
     "output_type": "stream",
     "text": [
      "Epoch 3/10, Average Loss: 0.0015\n",
      "Train Accuracy: 98.91%\n",
      "Validation Accuracy: 98.22%\n"
     ]
    },
    {
     "name": "stderr",
     "output_type": "stream",
     "text": [
      "Epoch 4/10:   7%|▋         | 102/1500 [00:02<00:34, 40.02it/s]\n"
     ]
    },
    {
     "ename": "KeyboardInterrupt",
     "evalue": "",
     "output_type": "error",
     "traceback": [
      "\u001b[0;31m---------------------------------------------------------------------------\u001b[0m",
      "\u001b[0;31mKeyboardInterrupt\u001b[0m                         Traceback (most recent call last)",
      "\u001b[0;32m/tmp/ipykernel_22073/4177056757.py\u001b[0m in \u001b[0;36m<module>\u001b[0;34m\u001b[0m\n\u001b[0;32m----> 1\u001b[0;31m \u001b[0mnet_baseline\u001b[0m \u001b[0;34m=\u001b[0m \u001b[0mtrain\u001b[0m\u001b[0;34m(\u001b[0m\u001b[0mnet\u001b[0m\u001b[0;34m=\u001b[0m\u001b[0mnet_baseline\u001b[0m\u001b[0;34m,\u001b[0m \u001b[0mepochs\u001b[0m\u001b[0;34m=\u001b[0m\u001b[0mepochs\u001b[0m\u001b[0;34m,\u001b[0m \u001b[0mtrainloader\u001b[0m\u001b[0;34m=\u001b[0m\u001b[0mtrainloader\u001b[0m\u001b[0;34m,\u001b[0m \u001b[0mvalloader\u001b[0m\u001b[0;34m=\u001b[0m\u001b[0mvalloader\u001b[0m\u001b[0;34m)\u001b[0m\u001b[0;34m\u001b[0m\u001b[0;34m\u001b[0m\u001b[0m\n\u001b[0m\u001b[1;32m      2\u001b[0m \u001b[0mprint\u001b[0m\u001b[0;34m(\u001b[0m\u001b[0;34mf'Test Accuracy: {eval_acc(net=net_baseline, loader=testloader) * 100:.2f}%'\u001b[0m\u001b[0;34m)\u001b[0m\u001b[0;34m\u001b[0m\u001b[0;34m\u001b[0m\u001b[0m\n",
      "\u001b[0;32m/tmp/ipykernel_22073/4252175883.py\u001b[0m in \u001b[0;36mtrain\u001b[0;34m(net, epochs, trainloader, valloader)\u001b[0m\n\u001b[1;32m     10\u001b[0m             \u001b[0moutputs\u001b[0m \u001b[0;34m=\u001b[0m \u001b[0mnet\u001b[0m\u001b[0;34m(\u001b[0m\u001b[0minputs\u001b[0m\u001b[0;34m)\u001b[0m\u001b[0;34m\u001b[0m\u001b[0;34m\u001b[0m\u001b[0m\n\u001b[1;32m     11\u001b[0m             \u001b[0mloss\u001b[0m \u001b[0;34m=\u001b[0m \u001b[0mcrit\u001b[0m\u001b[0;34m(\u001b[0m\u001b[0moutputs\u001b[0m\u001b[0;34m,\u001b[0m \u001b[0mlabels\u001b[0m\u001b[0;34m)\u001b[0m\u001b[0;34m\u001b[0m\u001b[0;34m\u001b[0m\u001b[0m\n\u001b[0;32m---> 12\u001b[0;31m             \u001b[0mloss\u001b[0m\u001b[0;34m.\u001b[0m\u001b[0mbackward\u001b[0m\u001b[0;34m(\u001b[0m\u001b[0;34m)\u001b[0m\u001b[0;34m\u001b[0m\u001b[0;34m\u001b[0m\u001b[0m\n\u001b[0m\u001b[1;32m     13\u001b[0m             \u001b[0moptimizer\u001b[0m\u001b[0;34m.\u001b[0m\u001b[0mstep\u001b[0m\u001b[0;34m(\u001b[0m\u001b[0;34m)\u001b[0m\u001b[0;34m\u001b[0m\u001b[0;34m\u001b[0m\u001b[0m\n\u001b[1;32m     14\u001b[0m             \u001b[0mtotal_loss\u001b[0m \u001b[0;34m+=\u001b[0m \u001b[0mloss\u001b[0m\u001b[0;34m.\u001b[0m\u001b[0mitem\u001b[0m\u001b[0;34m(\u001b[0m\u001b[0;34m)\u001b[0m\u001b[0;34m\u001b[0m\u001b[0;34m\u001b[0m\u001b[0m\n",
      "\u001b[0;32m~/miniconda3/envs/adl4r/lib/python3.7/site-packages/torch/_tensor.py\u001b[0m in \u001b[0;36mbackward\u001b[0;34m(self, gradient, retain_graph, create_graph, inputs)\u001b[0m\n\u001b[1;32m    487\u001b[0m             )\n\u001b[1;32m    488\u001b[0m         torch.autograd.backward(\n\u001b[0;32m--> 489\u001b[0;31m             \u001b[0mself\u001b[0m\u001b[0;34m,\u001b[0m \u001b[0mgradient\u001b[0m\u001b[0;34m,\u001b[0m \u001b[0mretain_graph\u001b[0m\u001b[0;34m,\u001b[0m \u001b[0mcreate_graph\u001b[0m\u001b[0;34m,\u001b[0m \u001b[0minputs\u001b[0m\u001b[0;34m=\u001b[0m\u001b[0minputs\u001b[0m\u001b[0;34m\u001b[0m\u001b[0;34m\u001b[0m\u001b[0m\n\u001b[0m\u001b[1;32m    490\u001b[0m         )\n\u001b[1;32m    491\u001b[0m \u001b[0;34m\u001b[0m\u001b[0m\n",
      "\u001b[0;32m~/miniconda3/envs/adl4r/lib/python3.7/site-packages/torch/autograd/__init__.py\u001b[0m in \u001b[0;36mbackward\u001b[0;34m(tensors, grad_tensors, retain_graph, create_graph, grad_variables, inputs)\u001b[0m\n\u001b[1;32m    197\u001b[0m     Variable._execution_engine.run_backward(  # Calls into the C++ engine to run the backward pass\n\u001b[1;32m    198\u001b[0m         \u001b[0mtensors\u001b[0m\u001b[0;34m,\u001b[0m \u001b[0mgrad_tensors_\u001b[0m\u001b[0;34m,\u001b[0m \u001b[0mretain_graph\u001b[0m\u001b[0;34m,\u001b[0m \u001b[0mcreate_graph\u001b[0m\u001b[0;34m,\u001b[0m \u001b[0minputs\u001b[0m\u001b[0;34m,\u001b[0m\u001b[0;34m\u001b[0m\u001b[0;34m\u001b[0m\u001b[0m\n\u001b[0;32m--> 199\u001b[0;31m         allow_unreachable=True, accumulate_grad=True)  # Calls into the C++ engine to run the backward pass\n\u001b[0m\u001b[1;32m    200\u001b[0m \u001b[0;34m\u001b[0m\u001b[0m\n\u001b[1;32m    201\u001b[0m def grad(\n",
      "\u001b[0;31mKeyboardInterrupt\u001b[0m: "
     ]
    }
   ],
   "source": [
    "net_baseline = train(net=net_baseline, epochs=epochs, trainloader=trainloader, valloader=valloader)\n",
    "print(f'Test Accuracy: {eval_acc(net=net_baseline, loader=testloader) * 100:.2f}%')"
   ]
  },
  {
   "cell_type": "code",
   "execution_count": 176,
   "metadata": {},
   "outputs": [],
   "source": [
    "torch.save(net_baseline.state_dict(), f\"../models/{name_baseline}.pth\")"
   ]
  },
  {
   "cell_type": "markdown",
   "metadata": {},
   "source": [
    "---"
   ]
  },
  {
   "cell_type": "markdown",
   "metadata": {},
   "source": [
    "**Random Subsampling**"
   ]
  },
  {
   "cell_type": "code",
   "execution_count": 177,
   "metadata": {},
   "outputs": [],
   "source": [
    "net_subsampling = CNN()\n",
    "net_subsampling = net_subsampling.to(device)\n",
    "name_subsampling = f\"subsampling_{pruning_ratio}_{epochs}\""
   ]
  },
  {
   "cell_type": "code",
   "execution_count": 178,
   "metadata": {},
   "outputs": [],
   "source": [
    "from torch.utils.data import SubsetRandomSampler\n",
    "idxs = torch.randperm(train_size)[:subset_size]\n",
    "sampler = SubsetRandomSampler(idxs)\n",
    "randomsubsampledloader = DataLoader(trainloader.dataset, batch_size=batch_size, sampler=sampler)"
   ]
  },
  {
   "cell_type": "code",
   "execution_count": null,
   "metadata": {},
   "outputs": [],
   "source": [
    "net_baseline = train(net=net_subsampling, epochs=epochs, trainloader=randomsubsampledloader, valloader=valloader)\n",
    "print(f'Test Accuracy: {eval_acc(net=net_subsampling, loader=testloader) * 100:.2f}%')"
   ]
  },
  {
   "cell_type": "code",
   "execution_count": 180,
   "metadata": {},
   "outputs": [
    {
     "name": "stderr",
     "output_type": "stream",
     "text": [
      "Test acc: 100%|██████████| 313/313 [00:03<00:00, 83.85it/s]"
     ]
    },
    {
     "name": "stdout",
     "output_type": "stream",
     "text": [
      "Test Accuracy: 98.43%\n"
     ]
    },
    {
     "name": "stderr",
     "output_type": "stream",
     "text": [
      "\n"
     ]
    }
   ],
   "source": [
    "torch.save(net_subsampling.state_dict(), f\"../models/{name_subsampling}.pth\")"
   ]
  },
  {
   "cell_type": "markdown",
   "metadata": {},
   "source": [
    "---"
   ]
  },
  {
   "cell_type": "markdown",
   "metadata": {},
   "source": [
    "**With Pruning**"
   ]
  },
  {
   "cell_type": "code",
   "execution_count": 181,
   "metadata": {},
   "outputs": [],
   "source": [
    "net_pruning = CNN()\n",
    "optimizer_pruning = AdamW(net_pruning.parameters())"
   ]
  },
  {
   "cell_type": "code",
   "execution_count": 182,
   "metadata": {},
   "outputs": [
    {
     "name": "stderr",
     "output_type": "stream",
     "text": [
      "Epoch 1/10:  43%|████▎     | 652/1500 [00:13<00:25, 33.90it/s]"
     ]
    },
    {
     "name": "stderr",
     "output_type": "stream",
     "text": [
      "Epoch 1/10: 100%|██████████| 1500/1500 [00:43<00:00, 34.20it/s]\n"
     ]
    },
    {
     "name": "stdout",
     "output_type": "stream",
     "text": [
      "Epoch 1/10, Average Loss: 0.0067\n"
     ]
    },
    {
     "name": "stderr",
     "output_type": "stream",
     "text": [
      "Epoch 2/10: 100%|██████████| 1500/1500 [00:37<00:00, 40.37it/s]\n"
     ]
    },
    {
     "name": "stdout",
     "output_type": "stream",
     "text": [
      "Epoch 2/10, Average Loss: 0.0027\n"
     ]
    },
    {
     "name": "stderr",
     "output_type": "stream",
     "text": [
      "Epoch 3/10: 100%|██████████| 1500/1500 [00:33<00:00, 44.65it/s]\n"
     ]
    },
    {
     "name": "stdout",
     "output_type": "stream",
     "text": [
      "Epoch 3/10, Average Loss: 0.0019\n"
     ]
    },
    {
     "name": "stderr",
     "output_type": "stream",
     "text": [
      "Epoch 4/10: 100%|██████████| 1500/1500 [00:33<00:00, 44.68it/s]\n"
     ]
    },
    {
     "name": "stdout",
     "output_type": "stream",
     "text": [
      "Epoch 4/10, Average Loss: 0.0014\n"
     ]
    },
    {
     "name": "stderr",
     "output_type": "stream",
     "text": [
      "Epoch 5/10: 100%|██████████| 1500/1500 [00:33<00:00, 44.20it/s]\n"
     ]
    },
    {
     "name": "stdout",
     "output_type": "stream",
     "text": [
      "Epoch 5/10, Average Loss: 0.0011\n"
     ]
    },
    {
     "name": "stderr",
     "output_type": "stream",
     "text": [
      "Epoch 6/10: 100%|██████████| 1500/1500 [00:33<00:00, 44.14it/s]\n"
     ]
    },
    {
     "name": "stdout",
     "output_type": "stream",
     "text": [
      "Epoch 6/10, Average Loss: 0.0008\n"
     ]
    },
    {
     "name": "stderr",
     "output_type": "stream",
     "text": [
      "Epoch 7/10: 100%|██████████| 1500/1500 [00:34<00:00, 43.50it/s]\n"
     ]
    },
    {
     "name": "stdout",
     "output_type": "stream",
     "text": [
      "Epoch 7/10, Average Loss: 0.0007\n"
     ]
    },
    {
     "name": "stderr",
     "output_type": "stream",
     "text": [
      "Epoch 8/10: 100%|██████████| 1500/1500 [00:34<00:00, 43.44it/s]\n"
     ]
    },
    {
     "name": "stdout",
     "output_type": "stream",
     "text": [
      "Epoch 8/10, Average Loss: 0.0005\n"
     ]
    },
    {
     "name": "stderr",
     "output_type": "stream",
     "text": [
      "Epoch 9/10: 100%|██████████| 1500/1500 [00:34<00:00, 43.39it/s]\n"
     ]
    },
    {
     "name": "stdout",
     "output_type": "stream",
     "text": [
      "Epoch 9/10, Average Loss: 0.0005\n"
     ]
    },
    {
     "name": "stderr",
     "output_type": "stream",
     "text": [
      "Epoch 10/10: 100%|██████████| 1500/1500 [00:34<00:00, 43.59it/s]"
     ]
    },
    {
     "name": "stdout",
     "output_type": "stream",
     "text": [
      "Epoch 10/10, Average Loss: 0.0004\n"
     ]
    },
    {
     "name": "stderr",
     "output_type": "stream",
     "text": [
      "\n"
     ]
    }
   ],
   "source": [
    "# Algorithm 1: Dataset pruning with dynamic uncertainty.\n",
    "# Input: Trainingset - trainloader, pruning ratio: pruning_ratio\n",
    "# Required Model: net_pruning, traing epochs: epochs, uncertainty window: J\n",
    "\n",
    "# To track uncertainty\n",
    "uncertainty_window = np.zeros((train_size, J)) # Uncertainty window\n",
    "uncertainty_EQ2 = np.zeros((train_size, epochs-J+1)) # Uncertainty according to Eq.2\n",
    "uncertainty = np.zeros(train_size) # Overall uncertainty according to Eq.3\n",
    "\n",
    "# for k = 0, · · · , K − 1 do\n",
    "for epoch in range(epochs):\n",
    "    total_loss = 0.0\n",
    "    idx = 0\n",
    "    \n",
    "    # Sample a batch B ∼ T.\n",
    "    # for (xi, yi) ∈ B do:\n",
    "    for inputs, labels in tqdm(trainloader, desc=f'Epoch {epoch + 1}/{epochs}'):\n",
    "        optimizer_pruning.zero_grad()\n",
    "\n",
    "        # Compute prediction P(yi, xi, θ) and loss ℓ(ϕθ(A(xi)), yi)\n",
    "        outputs = net_pruning(inputs)\n",
    "        loss = crit(outputs, labels)\n",
    "\n",
    "        # Store window\n",
    "        predicted_values = outputs[range(outputs.size(0)), labels]\n",
    "        uncertainty_window[idx:idx+len(labels), epoch%J] = predicted_values.detach().numpy()\n",
    "        idx += len(labels)\n",
    "\n",
    "        # Update θ ← θ − η∇θL, where L =Σℓ(ϕθ(A(xi)),yi) / |B|\n",
    "        loss.backward()\n",
    "        optimizer_pruning.step()\n",
    "        total_loss += loss.item()\n",
    "\n",
    "    # if k ≥ J then\n",
    "        # Compute uncertainty Uk−J (xi) using Eq. 2\n",
    "    if epoch >= J-1:\n",
    "            U_epoch = np.std(uncertainty_window, ddof=1, axis=1)\n",
    "            uncertainty_EQ2[:, epoch-J+1] = U_epoch\n",
    "\n",
    "    average_loss = total_loss / subset_size\n",
    "    print(f'Epoch {epoch + 1}/{epochs}, Average Loss: {average_loss:.4f}')\n",
    "\n",
    "# for (xi, yi) ∈ T do\n",
    "    # Compute dynamic uncertainty U(xi) using Eq. 3\n",
    "uncertainty = np.mean(uncertainty_EQ2, axis=1)\n",
    "\n",
    "# Sort T in the descending order of U(·)\n",
    "sorted_indices = np.argsort(uncertainty)[::-1]\n",
    "\n",
    "# S ← front (1 − r) × |T | samples in the sorted T\n",
    "subset_indices = sorted_indices[:int(len(sorted_indices)*(1-pruning_ratio))]\n",
    "\n",
    "# Output: Pruned dataset S\n",
    "train_dynamic_uncertainty_subset = Subset(dataset=trainloader.dataset, indices=subset_indices)"
   ]
  },
  {
   "cell_type": "code",
   "execution_count": 183,
   "metadata": {},
   "outputs": [],
   "source": [
    "net_pruning = CNN()\n",
    "net_pruning = net_pruning.to(device)\n",
    "name_pruning = f\"pruning_{pruning_ratio}_{epochs}\"\n",
    "dynamic_uncertainty = DataLoader(train_dynamic_uncertainty_subset, batch_size=batch_size, shuffle=False)"
   ]
  },
  {
   "cell_type": "code",
   "execution_count": null,
   "metadata": {},
   "outputs": [],
   "source": [
    "net_baseline = train(net=net_pruning, epochs=epochs, trainloader=dynamic_uncertainty, valloader=valloader)\n",
    "print(f'Test Accuracy: {eval_acc(net=net_pruning, loader=testloader) * 100:.2f}%')"
   ]
  },
  {
   "cell_type": "code",
   "execution_count": 185,
   "metadata": {},
   "outputs": [
    {
     "name": "stderr",
     "output_type": "stream",
     "text": [
      "Test acc: 100%|██████████| 313/313 [00:05<00:00, 61.59it/s]"
     ]
    },
    {
     "name": "stdout",
     "output_type": "stream",
     "text": [
      "Test Accuracy: 97.93%\n"
     ]
    },
    {
     "name": "stderr",
     "output_type": "stream",
     "text": [
      "\n"
     ]
    }
   ],
   "source": [
    "torch.save(net_pruning.state_dict(), f\"../models/{name_pruning}.pth\")"
   ]
  },
  {
   "cell_type": "markdown",
   "metadata": {},
   "source": [
    "---"
   ]
  },
  {
   "cell_type": "markdown",
   "metadata": {},
   "source": [
    "**Discrete Fourier Transform**"
   ]
  },
  {
   "cell_type": "markdown",
   "metadata": {},
   "source": [
    "Additionally, implement the following custom dynamic uncertainty score U(x) = abs(DFT(x)), where DFT is the Discrete Fourier Transform and abs takes the magnitude of the frequency spectrum. Consider the following: Do we need every value of the DFT, or can we remove some and get the same result? If we only want to consider the dynamics, which values do we need to remove? \"\n",
    "\n",
    "Magnitude spectrum: abs(fft2d())"
   ]
  },
  {
   "cell_type": "code",
   "execution_count": 48,
   "metadata": {},
   "outputs": [],
   "source": [
    "import matplotlib.pyplot as plt\n",
    "\n",
    "from torch.fft import fft, fft2"
   ]
  },
  {
   "cell_type": "code",
   "execution_count": 49,
   "metadata": {},
   "outputs": [],
   "source": [
    "num_row = 2\n",
    "num_col = 5\n",
    "num = 10"
   ]
  },
  {
   "cell_type": "code",
   "execution_count": 50,
   "metadata": {},
   "outputs": [
    {
     "data": {
      "image/png": "[encoded data removed]",
      "text/plain": [
       "<Figure size 750x400 with 10 Axes>"
      ]
     },
     "metadata": {},
     "output_type": "display_data"
    }
   ],
   "source": [
    "# plot images\n",
    "fig, axes = plt.subplots(num_row, num_col, figsize=(1.5*num_col,2*num_row))\n",
    "for i in range(num):\n",
    "    ax = axes[i//num_col, i%num_col]\n",
    "    ax.imshow(trainset[i][0][0,:,:], cmap='gray')\n",
    "    ax.set_title('Label: {}'.format(trainset[i][1]))\n",
    "plt.tight_layout()\n",
    "plt.show()"
   ]
  },
  {
   "cell_type": "markdown",
   "metadata": {},
   "source": [
    "2D FFT"
   ]
  },
  {
   "cell_type": "code",
   "execution_count": 96,
   "metadata": {},
   "outputs": [
    {
     "data": {
      "image/png": "[encoded data removed]",
      "text/plain": [
       "<Figure size 750x400 with 10 Axes>"
      ]
     },
     "metadata": {},
     "output_type": "display_data"
    }
   ],
   "source": [
    "# plot images\n",
    "fig, axes = plt.subplots(num_row, num_col, figsize=(1.5*num_col,2*num_row))\n",
    "for i in range(num):\n",
    "    ax = axes[i//num_col, i%num_col]\n",
    "    ax.imshow(fft2(input=trainset[i][0][0,:,:]).abs(), cmap='gray')\n",
    "    ax.set_title('Label: {}'.format(trainset[i][1]))\n",
    "plt.tight_layout()\n",
    "plt.show()"
   ]
  },
  {
   "cell_type": "code",
   "execution_count": 107,
   "metadata": {},
   "outputs": [
    {
     "name": "stdout",
     "output_type": "stream",
     "text": [
      "4.1112194\n",
      "2.863854\n",
      "5.180392\n",
      "3.4748092\n",
      "3.0802321\n",
      "1.6673982\n",
      "0.5345864\n",
      "0.26729345\n",
      "3.589361\n",
      "3.2329712\n",
      "5.778619\n",
      "2.5456467\n",
      "0.39457464\n",
      "1.5146592\n",
      "0.38184738\n",
      "2.4183626\n",
      "1.3110082\n",
      "2.774754\n",
      "3.0675054\n",
      "0.050913095\n",
      "1.7946815\n",
      "0.5727711\n",
      "0.674597\n",
      "1.4892029\n",
      "2.392907\n",
      "0.85279065\n",
      "1.2346387\n",
      "1.5783004\n",
      "3.3857098\n",
      "9.50799\n",
      "1.0182575\n",
      "0.54731345\n",
      "0.14001179\n",
      "2.1892555\n",
      "2.9656777\n",
      "0.6364109\n",
      "3.2202437\n",
      "1.170996\n",
      "3.6275473\n",
      "2.2147126\n",
      "0.59822667\n",
      "9.151602\n",
      "0.089096725\n",
      "3.0547767\n",
      "7.331462\n",
      "0.5345856\n",
      "3.818471\n",
      "1.6419413\n",
      "3.8439267\n",
      "1.2219102\n",
      "4.3912416\n",
      "4.467609\n",
      "1.3237365\n",
      "3.105689\n",
      "2.54565\n",
      "5.104023\n",
      "0.07637203\n",
      "0.47094342\n",
      "0.4454875\n",
      "0.43276036\n",
      "0.56004286\n",
      "0.3054788\n",
      "4.9131002\n",
      "2.0492449\n",
      "1.298279\n",
      "1.1073551\n",
      "2.4310927\n",
      "1.5528445\n",
      "4.353056\n",
      "2.5838344\n",
      "4.047578\n",
      "0.636412\n",
      "1.578301\n",
      "2.9911366\n",
      "1.6673965\n",
      "3.5257196\n",
      "1.6673999\n",
      "0.3436613\n",
      "0.42002946\n",
      "6.058639\n",
      "10.920826\n",
      "4.7349024\n",
      "0.54731417\n",
      "8.120613\n",
      "3.0547757\n",
      "1.0946276\n",
      "2.0874305\n",
      "0.43275973\n",
      "2.418365\n",
      "7.738768\n",
      "2.061974\n",
      "12.448214\n",
      "5.549511\n",
      "1.8583217\n",
      "2.1001596\n",
      "3.0165896\n",
      "1.2346389\n",
      "3.5639052\n",
      "2.1510696\n",
      "2.660201\n",
      "0.012729168\n",
      "0.6109538\n",
      "0.9291625\n",
      "0.99280334\n",
      "0.21638012\n",
      "2.278353\n",
      "5.4858704\n",
      "2.4692779\n",
      "1.6292166\n",
      "1.6292145\n",
      "7.4460154\n",
      "4.2894163\n",
      "2.1256151\n",
      "0.9800744\n",
      "2.8129365\n",
      "2.5583773\n",
      "0.68732405\n",
      "5.3840437\n",
      "3.0165908\n",
      "0.623683\n",
      "3.2456996\n",
      "2.825666\n",
      "3.2966127\n",
      "7.7514925\n",
      "3.8566554\n",
      "2.889312\n",
      "4.25123\n",
      "8.133343\n",
      "4.1875916\n",
      "0.15273786\n",
      "0.20365238\n",
      "1.8455938\n",
      "1.832865\n",
      "3.0929618\n",
      "3.3093405\n",
      "6.8096056\n",
      "1.8455935\n",
      "7.2678227\n",
      "5.2822165\n",
      "4.1748614\n",
      "5.536782\n",
      "2.418363\n",
      "2.7238412\n",
      "0.42003083\n",
      "3.8693843\n",
      "1.1328118\n",
      "3.118416\n",
      "1.1073573\n",
      "0.07636851\n",
      "1.2728226\n",
      "3.1820576\n",
      "2.1638\n",
      "2.2783546\n",
      "4.862186\n",
      "3.4366238\n",
      "4.3021436\n",
      "7.598755\n",
      "1.2346382\n",
      "0.48367333\n",
      "0.025456667\n",
      "7.0259857\n",
      "3.7675562\n",
      "2.0365188\n",
      "5.3840427\n",
      "2.252897\n",
      "1.2473683\n",
      "2.5201902\n",
      "3.003866\n",
      "0.5345855\n",
      "1.3491926\n",
      "1.0055292\n",
      "1.9728771\n",
      "1.2855513\n",
      "2.2274423\n",
      "0.7891495\n",
      "5.11675\n",
      "3.0547752\n",
      "0.48367274\n",
      "7.318734\n",
      "1.7564963\n",
      "3.0038633\n",
      "3.0038629\n",
      "3.220242\n",
      "0.8782482\n",
      "1.2728243\n",
      "0.9418863\n",
      "0.5218575\n",
      "3.3857095\n",
      "8.80794\n",
      "6.1477365\n",
      "0.9800744\n",
      "3.2202435\n",
      "1.552846\n",
      "0.5473151\n",
      "4.0603065\n",
      "4.7221756\n",
      "0.36911964\n",
      "4.8621864\n",
      "1.2473677\n",
      "2.8383942\n",
      "0.0891006\n",
      "1.4255614\n",
      "1.451019\n",
      "2.647474\n",
      "4.671262\n",
      "4.9130983\n",
      "1.0437182\n",
      "3.6020913\n",
      "1.8837788\n",
      "7.662398\n",
      "2.902038\n",
      "1.6037587\n",
      "5.269489\n",
      "2.7874823\n",
      "2.7747543\n",
      "4.187589\n",
      "2.7365727\n",
      "1.0182595\n",
      "5.371315\n",
      "1.6419442\n",
      "0.394575\n",
      "2.4183645\n",
      "2.9784064\n",
      "2.1892557\n",
      "4.17486\n",
      "6.605954\n",
      "1.1328125\n",
      "3.2075152\n",
      "2.8002107\n",
      "3.7039185\n",
      "1.6928567\n",
      "1.7183118\n",
      "4.645807\n",
      "2.7238426\n",
      "1.896508\n",
      "0.38184738\n",
      "1.8710521\n",
      "0.76369613\n",
      "8.947948\n",
      "2.3674517\n",
      "1.196453\n",
      "2.0874312\n",
      "8.464276\n",
      "2.0747018\n",
      "0.43275857\n",
      "2.3929076\n",
      "0.17819548\n",
      "3.996665\n",
      "2.5201902\n",
      "13.224632\n",
      "2.1001592\n",
      "0.80188084\n",
      "0.5345857\n",
      "1.7055835\n",
      "7.751495\n",
      "7.280552\n",
      "0.78915125\n",
      "4.0221224\n",
      "1.7183104\n",
      "7.611486\n",
      "0.12728238\n",
      "3.245702\n",
      "2.583832\n",
      "3.2202437\n",
      "5.994999\n",
      "3.0802321\n",
      "8.553373\n",
      "1.9601476\n",
      "3.9330244\n",
      "1.0564427\n",
      "0.9291609\n",
      "2.0492463\n",
      "3.5257194\n",
      "7.013257\n",
      "0.5345837\n",
      "2.6983855\n",
      "1.7692242\n",
      "3.5511787\n",
      "2.3929076\n",
      "3.271156\n",
      "3.5766335\n",
      "3.9202962\n",
      "1.1582706\n",
      "4.69672\n",
      "2.0492465\n",
      "0.4454875\n",
      "0.30547798\n",
      "6.5550404\n",
      "3.131146\n",
      "0.3818469\n",
      "1.3746486\n",
      "3.933024\n",
      "2.3929079\n",
      "0.68732417\n",
      "0.53458595\n",
      "5.3967714\n",
      "5.4349527\n",
      "3.4875348\n",
      "1.2982793\n",
      "6.135009\n",
      "1.0564427\n",
      "1.400107\n",
      "2.9911354\n",
      "3.1311448\n",
      "1.7819543\n",
      "0.5854982\n",
      "3.8948398\n",
      "3.5511777\n",
      "0.64914083\n",
      "0.534585\n",
      "0.47094512\n",
      "3.1311455\n",
      "1.921963\n",
      "1.2219117\n",
      "3.3220692\n",
      "1.4510193\n",
      "0.3436625\n",
      "2.8638535\n",
      "0.07636958\n",
      "6.5677686\n",
      "0.29274964\n",
      "0.661867\n",
      "3.118418\n",
      "1.6673994\n",
      "1.5528442\n",
      "5.613152\n",
      "1.9092375\n",
      "5.3713155\n",
      "1.4128354\n",
      "4.340328\n",
      "1.9601471\n",
      "1.1200843\n",
      "2.5456467\n",
      "1.6928555\n",
      "2.571103\n",
      "3.9457533\n",
      "0.6364112\n",
      "3.156601\n",
      "5.9822717\n",
      "0.5855026\n",
      "2.4183643\n",
      "1.5910296\n",
      "1.3110086\n",
      "4.531251\n",
      "6.478671\n",
      "0.49640107\n",
      "2.0747004\n",
      "0.73823786\n",
      "6.5423136\n",
      "2.6602006\n",
      "1.7183113\n",
      "0.5091301\n",
      "5.7149754\n",
      "3.5511765\n",
      "4.034851\n",
      "2.2528973\n",
      "3.3857098\n",
      "0.7127799\n",
      "0.42003155\n",
      "4.2257714\n",
      "0.9037026\n",
      "1.9092344\n",
      "3.5766335\n",
      "6.160465\n",
      "1.8074074\n",
      "0.26729405\n",
      "2.1892562\n",
      "1.794682\n",
      "3.754828\n",
      "2.8129406\n",
      "2.634747\n",
      "0.98007387\n",
      "1.9474205\n",
      "0.16546798\n",
      "1.5273896\n",
      "2.1638007\n",
      "3.9584823\n",
      "1.1200843\n",
      "3.9966664\n",
      "2.8129401\n",
      "4.391241\n",
      "5.333129\n",
      "0.1781969\n",
      "2.7620268\n",
      "2.507462\n",
      "0.92916095\n",
      "3.0165925\n",
      "1.1455402\n",
      "0.29275036\n",
      "1.6037579\n",
      "2.774756\n",
      "6.6441393\n",
      "0.2036519\n",
      "0.012726903\n",
      "3.245699\n",
      "6.7077785\n",
      "3.9202957\n",
      "3.8566556\n",
      "3.4366248\n",
      "9.507994\n",
      "3.3220694\n",
      "3.8057418\n",
      "1.1837263\n",
      "7.1532674\n",
      "12.104552\n",
      "10.182587\n",
      "1.9219632\n",
      "0.6109539\n",
      "3.7039158\n",
      "0.038185596\n",
      "1.6801265\n",
      "3.9966664\n",
      "3.6911876\n",
      "9.367981\n",
      "2.354722\n",
      "0.77642107\n",
      "1.0055311\n",
      "0.20365226\n",
      "3.818468\n",
      "4.556708\n",
      "9.66073\n",
      "3.258427\n",
      "1.4892027\n",
      "0.80187774\n",
      "1.1328125\n",
      "6.0586405\n",
      "3.0675054\n",
      "6.2750206\n",
      "0.30547523\n",
      "1.9092355\n",
      "3.8439262\n",
      "3.1566024\n",
      "2.6220171\n",
      "2.1001587\n",
      "1.1582675\n",
      "5.829531\n",
      "0.36911756\n",
      "3.0038638\n",
      "2.1892562\n",
      "0.47094512\n",
      "5.053109\n",
      "1.2219112\n",
      "0.14001167\n",
      "2.3165388\n",
      "4.123948\n",
      "4.353057\n",
      "5.9440856\n",
      "0.6873257\n",
      "0.54731464\n",
      "2.8638518\n",
      "0.84006244\n",
      "1.0691704\n",
      "4.123947\n",
      "2.2656252\n",
      "0.78915054\n",
      "0.07636976\n",
      "2.2783546\n",
      "12.282745\n",
      "2.5201917\n",
      "4.9767385\n",
      "1.043716\n",
      "1.1200856\n",
      "1.5782971\n",
      "2.4820058\n",
      "0.3945787\n",
      "0.68732315\n",
      "3.2202425\n",
      "0.7764213\n",
      "2.5838327\n",
      "0.7636945\n",
      "5.4858685\n",
      "0.49640238\n",
      "1.9601474\n",
      "4.938555\n",
      "1.2219107\n",
      "3.9330235\n",
      "0.114554286\n",
      "5.142206\n",
      "1.0564437\n",
      "3.131145\n",
      "2.265624\n",
      "3.9330235\n",
      "0.038185954\n",
      "1.9092367\n",
      "1.2600956\n",
      "4.5439787\n",
      "0.91643333\n",
      "3.6911867\n",
      "1.743768\n",
      "4.3657837\n",
      "2.571104\n",
      "2.4310942\n",
      "5.2822185\n",
      "0.16546702\n",
      "1.412834\n",
      "0.70005417\n",
      "8.833395\n",
      "1.7310392\n",
      "0.7509651\n",
      "3.1438742\n"
     ]
    }
   ],
   "source": [
    "for j in range(500):\n",
    "    print(fft2(input=trainset[j][0][0,:,:]).abs().numpy()[14,14])"
   ]
  },
  {
   "cell_type": "code",
   "execution_count": 120,
   "metadata": {},
   "outputs": [],
   "source": [
    "x = next(iter(trainloader))[0]\n",
    "x = fft2(input=x[:,0,:,:]).abs().numpy()"
   ]
  },
  {
   "cell_type": "code",
   "execution_count": 140,
   "metadata": {},
   "outputs": [
    {
     "data": {
      "text/plain": [
       "90.05233"
      ]
     },
     "execution_count": 140,
     "metadata": {},
     "output_type": "execute_result"
    }
   ],
   "source": [
    "np.mean(x, axis=0)[27,26]"
   ]
  },
  {
   "cell_type": "code",
   "execution_count": null,
   "metadata": {},
   "outputs": [],
   "source": []
  }
 ],
 "metadata": {
  "kernelspec": {
   "display_name": "Python 3",
   "language": "python",
   "name": "python3"
  },
  "language_info": {
   "codemirror_mode": {
    "name": "ipython",
    "version": 3
   },
   "file_extension": ".py",
   "mimetype": "text/x-python",
   "name": "python",
   "nbconvert_exporter": "python",
   "pygments_lexer": "ipython3",
   "version": "3.7.12"
  }
 },
 "nbformat": 4,
 "nbformat_minor": 2
}
